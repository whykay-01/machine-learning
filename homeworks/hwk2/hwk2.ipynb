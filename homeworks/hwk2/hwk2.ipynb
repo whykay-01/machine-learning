{
 "cells": [
  {
   "cell_type": "code",
   "execution_count": 1,
   "id": "89272c9d-ec57-4697-b217-aaa499cdbf89",
   "metadata": {},
   "outputs": [
    {
     "name": "stdout",
     "output_type": "stream",
     "text": [
      "Finished successfully loading packages\n"
     ]
    }
   ],
   "source": [
    "# Numerical/scientific computing packages.\n",
    "import numpy as np\n",
    "import scipy\n",
    "import copy\n",
    "import pandas as pd\n",
    "import seaborn as sns\n",
    "import csv\n",
    "\n",
    "# Machine learning package.\n",
    "import sklearn\n",
    "from sklearn.linear_model import LinearRegression\n",
    "from sklearn.model_selection import train_test_split\n",
    "from sklearn.metrics import r2_score, mean_squared_error, mean_squared_log_error, mean_absolute_error\n",
    "\n",
    "\n",
    "# Useful for saving our models.\n",
    "import pickle\n",
    "\n",
    "# Plotting packages.\n",
    "import matplotlib\n",
    "import matplotlib.pyplot as plt\n",
    "from matplotlib import cm\n",
    "from mpl_toolkits.mplot3d import Axes3D\n",
    "\n",
    "# Sets the matplotlib backend for the notebook.\n",
    "# sets the backend of matplotlib to the 'inline' backend: \n",
    "# With this backend, the output of plotting commands is \n",
    "# displayed inline within the Jupyter notebook, \n",
    "# directly below the code cell that produced it\n",
    "%matplotlib inline \n",
    "\n",
    "print('Finished successfully loading packages')"
   ]
  },
  {
   "cell_type": "markdown",
   "id": "118548f9-7778-4de1-a942-89126bc82e11",
   "metadata": {},
   "source": [
    "### QUESTION 1: Using multiple linear regression: What is the best predictor of total annual compensation, how much variance is explained by this predictor vs. the full multiple regression model?"
   ]
  },
  {
   "cell_type": "code",
   "execution_count": 2,
   "id": "f0db2413-af5d-43cd-b61b-64e588451fb3",
   "metadata": {},
   "outputs": [],
   "source": [
    "def simple_linear_regression(data: any, title: str = \"TITLE NOT SET\", x_axis_label: str = \"X AXIS NOT SET\", y_axis_label: str = \"Y AXIS NOT SET\"):\n",
    "    pass\n",
    "\n",
    "def multiple_linear_regression(data: any, title: str = \"TITLE NOT SET\", x_axis_label: str = \"X AXIS NOT SET\", y_axis_label: str = \"Y AXIS NOT SET\"):\n",
    "    pass"
   ]
  },
  {
   "cell_type": "markdown",
   "id": "d94e95fc-e7a7-4dfb-86d3-2e7b07d7dee7",
   "metadata": {},
   "source": [
    "### QUESTION 2: Using ridge regression to do the same as in 1): How does the model change or improve compared to OLS? What is the optimal lambda?"
   ]
  },
  {
   "cell_type": "code",
   "execution_count": 3,
   "id": "e68a3a4a-7f55-478c-a63b-ceb5879fdab9",
   "metadata": {},
   "outputs": [],
   "source": [
    "def foo():\n",
    "    pass"
   ]
  },
  {
   "cell_type": "markdown",
   "id": "f60893e0-5b6f-4afb-9ab7-0721dccf9790",
   "metadata": {},
   "source": [
    "### QUESTION 3: Using Lasso regression to do the same as in 1): How does the model change now? How many of the predictor betas are shrunk to exactly 0? What is the optimal lambda now?"
   ]
  },
  {
   "cell_type": "code",
   "execution_count": 4,
   "id": "2ff612e0-c237-476d-aa3c-c2a70e5f6071",
   "metadata": {},
   "outputs": [],
   "source": [
    "def foo():\n",
    "    pass"
   ]
  },
  {
   "cell_type": "markdown",
   "id": "3a54b306-00d4-4a6c-93dc-ceed91e53610",
   "metadata": {},
   "source": [
    "### QUESTION 4: There is controversy as to the existence of a male/female gender pay gap in tech job compensation. Build a logistic regression model (with gender as the outcome variable) to see if there is an appreciable beta associated with total annual compensation with and without controlling for other factors."
   ]
  },
  {
   "cell_type": "code",
   "execution_count": 5,
   "id": "7597e568-a554-40b0-bb45-21b1bb0d1be2",
   "metadata": {},
   "outputs": [],
   "source": [
    "def foo():\n",
    "    pass"
   ]
  },
  {
   "cell_type": "markdown",
   "id": "2cbf58dd-f9af-4a92-8d0c-e5b22006dde5",
   "metadata": {},
   "source": [
    "### QUESTION 5: Build a logistic regression model to see if you can predict high and low pay from years of relevant experience, age, height, SAT score and GPA, respectively."
   ]
  },
  {
   "cell_type": "code",
   "execution_count": 6,
   "id": "8ffa60e1-b0b5-4f65-80ae-ae76177b3b40",
   "metadata": {},
   "outputs": [],
   "source": [
    "def foo():\n",
    "    pass"
   ]
  },
  {
   "cell_type": "markdown",
   "id": "3ee8c3f8-5f70-41be-823a-9485ea79cb99",
   "metadata": {},
   "source": [
    "### EXTRA CREDIT (A): Is salary, height or age normally distributed? Does this surprise you? Why or why not?"
   ]
  },
  {
   "cell_type": "code",
   "execution_count": 7,
   "id": "489abc0a-970e-4366-813f-d8a05780d155",
   "metadata": {},
   "outputs": [],
   "source": [
    "def foo():\n",
    "    pass"
   ]
  },
  {
   "cell_type": "markdown",
   "id": "7e6a3beb-6b87-42ed-b1a8-2344451a1a84",
   "metadata": {},
   "source": [
    "### EXTRA CREDIT (B): Tell us something interesting about this dataset that is not already covered by the questions above and that is not obvious."
   ]
  },
  {
   "cell_type": "code",
   "execution_count": 8,
   "id": "579b322f-3e05-46bf-adcc-a19b4ee56cc5",
   "metadata": {},
   "outputs": [],
   "source": [
    "def foo():\n",
    "    pass"
   ]
  },
  {
   "cell_type": "code",
   "execution_count": null,
   "id": "17e9c186-6242-4855-b391-c310d305f1b9",
   "metadata": {},
   "outputs": [],
   "source": []
  }
 ],
 "metadata": {
  "kernelspec": {
   "display_name": "Python 3 (ipykernel)",
   "language": "python",
   "name": "python3"
  },
  "language_info": {
   "codemirror_mode": {
    "name": "ipython",
    "version": 3
   },
   "file_extension": ".py",
   "mimetype": "text/x-python",
   "name": "python",
   "nbconvert_exporter": "python",
   "pygments_lexer": "ipython3",
   "version": "3.11.6"
  }
 },
 "nbformat": 4,
 "nbformat_minor": 5
}
