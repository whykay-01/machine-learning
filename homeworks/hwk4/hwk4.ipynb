{
 "cells": [
  {
   "cell_type": "code",
   "execution_count": 2,
   "id": "4882ace4-7a8f-4bb6-9df8-9e9c476e6107",
   "metadata": {},
   "outputs": [
    {
     "name": "stdout",
     "output_type": "stream",
     "text": [
      "Imported all!\n",
      "Shape of the loaded dataset: 253680 rows and 22 columns.\n"
     ]
    }
   ],
   "source": [
    "# Load basic packages\n",
    "import numpy as np\n",
    "import pandas as pd\n",
    "\n",
    "import autograd.numpy as numpy\n",
    "import autograd.numpy.random as npr\n",
    "\n",
    "import warnings\n",
    "warnings.filterwarnings('ignore')\n",
    "\n",
    "import matplotlib.pyplot as plt\n",
    "from tqdm import tqdm\n",
    "from sklearn import metrics\n",
    "from sklearn import model_selection\n",
    "\n",
    "# Useful for saving our models.\n",
    "import pickle\n",
    "print(\"Imported all!\")\n",
    "\n",
    "df = pd.read_csv('diabetes.csv')\n",
    "df = df.dropna()\n",
    "diabetes_numpy = df.values\n",
    "print(\"Shape of the loaded dataset: {} rows and {} columns.\".format(diabetes.shape[0], diabetes.shape[1]))"
   ]
  },
  {
   "cell_type": "code",
   "execution_count": null,
   "id": "9df3ab6b-26b1-4794-a2ac-2c22a4ce63d7",
   "metadata": {},
   "outputs": [],
   "source": []
  }
 ],
 "metadata": {
  "kernelspec": {
   "display_name": "Python 3 (ipykernel)",
   "language": "python",
   "name": "python3"
  },
  "language_info": {
   "codemirror_mode": {
    "name": "ipython",
    "version": 3
   },
   "file_extension": ".py",
   "mimetype": "text/x-python",
   "name": "python",
   "nbconvert_exporter": "python",
   "pygments_lexer": "ipython3",
   "version": "3.11.6"
  }
 },
 "nbformat": 4,
 "nbformat_minor": 5
}
