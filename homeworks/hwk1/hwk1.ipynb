{
 "cells": [
  {
   "cell_type": "markdown",
   "id": "b7bd9505-2d7e-4166-9c1c-3a51b2558b6c",
   "metadata": {},
   "source": [
    "Each row in the csv file represents the information from a housing block. \n",
    "Columns represent (in order): \n",
    "1) Median age of the houses in the block (in years) \n",
    "2) Total number of rooms in a given block \n",
    "3) Number of bedrooms in a given block \n",
    "4) Population in the block \n",
    "5) Number of households in the block \n",
    "6) Median household income in the block (in thousands of dollars) \n",
    "7) Proximity to the ocean (rated on a scale from 0 = closest to 4 = farthest) \n",
    "8) Median house value in the block (in dollars)"
   ]
  },
  {
   "cell_type": "code",
   "execution_count": 1,
   "id": "e6a29977-8956-40d9-af18-32f6f321720b",
   "metadata": {},
   "outputs": [
    {
     "name": "stdout",
     "output_type": "stream",
     "text": [
      "Finished successfully loading packages\n"
     ]
    }
   ],
   "source": [
    "# Numerical/scientific computing packages.\n",
    "import numpy as np\n",
    "import scipy\n",
    "\n",
    "# Machine learning package.\n",
    "import sklearn\n",
    "\n",
    "# Useful for saving our models.\n",
    "import pickle\n",
    "\n",
    "# Plotting packages.\n",
    "import matplotlib\n",
    "import matplotlib.pyplot as plt\n",
    "from matplotlib import cm\n",
    "from mpl_toolkits.mplot3d import Axes3D\n",
    "import numpy as np\n",
    "import pandas as pd\n",
    "import seaborn as sns\n",
    "\n",
    "# Sets the matplotlib backend for the notebook.\n",
    "# sets the backend of matplotlib to the 'inline' backend: \n",
    "# With this backend, the output of plotting commands is \n",
    "# displayed inline within the Jupyter notebook, \n",
    "# directly below the code cell that produced it\n",
    "%matplotlib inline \n",
    "\n",
    "print('Finished successfully loading packages')\n"
   ]
  },
  {
   "cell_type": "markdown",
   "id": "018e43d1-017e-4081-b7ea-9b6078d0bada",
   "metadata": {},
   "source": [
    "## Question 1\n",
    "\n",
    "Why  is  it  a  good  idea  to  standardize/normalize  the  predictor  variables  2  and  3  and \n",
    "why are predictor variables 4 and 5 probably not very useful by themselves to predict \n",
    "median house values in a block?"
   ]
  },
  {
   "cell_type": "markdown",
   "id": "a84e3c4c-58ae-48af-8745-63971b6cd060",
   "metadata": {},
   "source": [
    "## Answer 1\n",
    "\n",
    "The goal of normalization is to change the values of numeric columns in the dataset to a common scale, without distorting differences in the ranges of values. For machine learning, every dataset does not require normalization. It is required only when features have different ranges. In our case, let us test how predictors 2 and 3 are different from each other"
   ]
  },
  {
   "cell_type": "code",
   "execution_count": 2,
   "id": "f8eaf9f5-9902-46f5-81e4-59087fc90f59",
   "metadata": {},
   "outputs": [],
   "source": [
    "file_path = 'housingUnits.csv'\n",
    "\n",
    "df = pd.read_csv(file_path)"
   ]
  },
  {
   "cell_type": "code",
   "execution_count": 3,
   "id": "240b1088-4a66-4c0d-a39c-2ab6ace8ae9a",
   "metadata": {},
   "outputs": [
    {
     "data": {
      "text/plain": [
       "['housing_median_age',\n",
       " 'total_rooms',\n",
       " 'total_bedrooms',\n",
       " 'population',\n",
       " 'households',\n",
       " 'median_income',\n",
       " 'ocean_proximity',\n",
       " 'median_house_value']"
      ]
     },
     "execution_count": 3,
     "metadata": {},
     "output_type": "execute_result"
    }
   ],
   "source": [
    "df.columns.values.tolist()"
   ]
  },
  {
   "cell_type": "code",
   "execution_count": 4,
   "id": "fb8d6e5d-0b59-4b7d-b3e0-25db30b447fc",
   "metadata": {},
   "outputs": [],
   "source": [
    "total_rooms = \"total_rooms\"\n",
    "total_bedrooms = \"total_bedrooms\""
   ]
  },
  {
   "cell_type": "code",
   "execution_count": 5,
   "id": "b788468a-52a5-461e-ada6-6e63a832f9ad",
   "metadata": {},
   "outputs": [],
   "source": [
    "total_rooms_mean = df[total_rooms].mean()\n",
    "total_rooms_std = df[total_rooms].std()"
   ]
  },
  {
   "cell_type": "code",
   "execution_count": 6,
   "id": "d3de56b6-7706-4ded-b450-d864a13cc526",
   "metadata": {},
   "outputs": [],
   "source": [
    "total_bedrooms_mean = df[total_bedrooms].mean()\n",
    "total_bedrooms_std = df[total_bedrooms].std()"
   ]
  },
  {
   "cell_type": "code",
   "execution_count": 7,
   "id": "6d9aaaf8-32dd-4910-a965-c0a887ee201c",
   "metadata": {},
   "outputs": [
    {
     "name": "stdout",
     "output_type": "stream",
     "text": [
      "Mean of 'total_rooms': 2635.7630813953488\n",
      "Standard deviation of 'total_rooms': 2181.615251582795\n"
     ]
    }
   ],
   "source": [
    "print(f\"Mean of '{total_rooms}': {total_rooms_mean}\")\n",
    "print(f\"Standard deviation of '{total_rooms}': {total_rooms_std}\")"
   ]
  },
  {
   "cell_type": "code",
   "execution_count": 8,
   "id": "5dd0fb3e-ef15-47b4-9add-10a9ec87b867",
   "metadata": {},
   "outputs": [
    {
     "name": "stdout",
     "output_type": "stream",
     "text": [
      "Mean of 'total_bedrooms': 537.7352713178294\n",
      "Standard deviation of 'total_bedrooms': 391.3929133157033\n"
     ]
    }
   ],
   "source": [
    "print(f\"Mean of '{total_bedrooms}': {total_bedrooms_mean}\")\n",
    "print(f\"Standard deviation of '{total_bedrooms}': {total_bedrooms_std}\")"
   ]
  },
  {
   "cell_type": "code",
   "execution_count": 9,
   "id": "9fb8f21b-36c4-4de0-a5cb-16649420c1a1",
   "metadata": {},
   "outputs": [],
   "source": [
    "data_size = df.shape[0]"
   ]
  },
  {
   "cell_type": "code",
   "execution_count": 10,
   "id": "a5c7cfa3-f111-497a-8004-c3e8fe175293",
   "metadata": {},
   "outputs": [
    {
     "data": {
      "text/plain": [
       "20640"
      ]
     },
     "execution_count": 10,
     "metadata": {},
     "output_type": "execute_result"
    }
   ],
   "source": [
    "data_size"
   ]
  },
  {
   "cell_type": "code",
   "execution_count": 11,
   "id": "437d1d77-810d-4456-a944-11494122fdc3",
   "metadata": {},
   "outputs": [],
   "source": [
    "def plot_freq_dist(data: pd.DataFrame):\n",
    "    \"\"\"\n",
    "    data: 1d dataframe to plot on the graph\n",
    "    \"\"\"\n",
    "    data_size = data.shape[0]\n",
    "    # Let's use the Scott's rule for choosing the right bin width\n",
    "    w = 3.49 * np.std(data)/data_size**(1./3)\n",
    "\n",
    "    # color of the histogram\n",
    "    color = 'black'\n",
    "\n",
    "    # define bins with accordance to the appropriate size \n",
    "    bins = np.arange(data.min().item(), data.max().item() + w, w, dtype=float)\n",
    "    \n",
    "    plot = plt.hist(data, edgecolor=color, bins=bins) \n",
    "    return plot"
   ]
  },
  {
   "cell_type": "code",
   "execution_count": 12,
   "id": "0016592e-3a9f-4cc2-aaaf-6f71b218f3d6",
   "metadata": {},
   "outputs": [
    {
     "data": {
      "image/png": "[encoded data removed]",
      "text/plain": [
       "<Figure size 640x480 with 1 Axes>"
      ]
     },
     "metadata": {},
     "output_type": "display_data"
    }
   ],
   "source": [
    "total_rooms_plot = plot_freq_dist(df[total_rooms])"
   ]
  },
  {
   "cell_type": "code",
   "execution_count": 13,
   "id": "00ebae5f-3ffe-40e9-aa33-0803afd9a0da",
   "metadata": {},
   "outputs": [
    {
     "data": {
      "image/png": "[encoded data removed]",
      "text/plain": [
       "<Figure size 640x480 with 1 Axes>"
      ]
     },
     "metadata": {},
     "output_type": "display_data"
    }
   ],
   "source": [
    "total_bedrooms_plot = plot_freq_dist(df[total_bedrooms])"
   ]
  },
  {
   "cell_type": "markdown",
   "id": "65b9ca6f-d4a6-4d36-8382-4b987da4bb6f",
   "metadata": {},
   "source": [
    "Although the distributions of the `total_bedrooms` and `total_rooms` look very similar, we might need to normalize these 2 predictors as their ranges differ from each other significantly"
   ]
  },
  {
   "cell_type": "code",
   "execution_count": 14,
   "id": "9d5f5cf9-c124-4769-b06a-59cc83dc6524",
   "metadata": {},
   "outputs": [],
   "source": [
    "def normalize(arr, range_to_normalize=(0, 1)):\n",
    "    t_min, t_max = range_to_normalize\n",
    "    \n",
    "    # Convert the input array to a NumPy array for efficient operations\n",
    "    arr = np.array(arr)\n",
    "    \n",
    "    # Calculate the range of the input array\n",
    "    arr_min, arr_max = arr.min(), arr.max()\n",
    "    \n",
    "    # Use NumPy operations for vectorized normalization\n",
    "    norm_arr = ((arr - arr_min) / (arr_max - arr_min)) * (t_max - t_min) + t_min\n",
    "    \n",
    "    # Convert the result back to a DataFrame\n",
    "    return pd.DataFrame(norm_arr)"
   ]
  },
  {
   "cell_type": "code",
   "execution_count": 15,
   "id": "3aebed69-d3a3-40b6-a981-53c3b25be250",
   "metadata": {},
   "outputs": [],
   "source": [
    "normalized_total_rooms = normalize(df[total_rooms])"
   ]
  },
  {
   "cell_type": "code",
   "execution_count": 16,
   "id": "88c9004a-aa98-4910-8172-6b5e48f0105d",
   "metadata": {},
   "outputs": [],
   "source": [
    "normalized_total_bedrooms = normalize(df[total_bedrooms])"
   ]
  },
  {
   "cell_type": "code",
   "execution_count": 17,
   "id": "3cee7c25-689d-4882-a4b0-ce9e922bdb88",
   "metadata": {},
   "outputs": [
    {
     "name": "stderr",
     "output_type": "stream",
     "text": [
      "/Users/yan/machine_learning_spring2024/.venv/lib/python3.11/site-packages/numpy/core/fromnumeric.py:3643: FutureWarning: The behavior of DataFrame.std with axis=None is deprecated, in a future version this will reduce over both axes and return a scalar. To retain the old behavior, pass axis=0 (or do not pass axis)\n",
      "  return std(axis=axis, dtype=dtype, out=out, ddof=ddof, **kwargs)\n"
     ]
    },
    {
     "ename": "ValueError",
     "evalue": "The truth value of a Series is ambiguous. Use a.empty, a.bool(), a.item(), a.any() or a.all().",
     "output_type": "error",
     "traceback": [
      "\u001b[0;31m---------------------------------------------------------------------------\u001b[0m",
      "\u001b[0;31mValueError\u001b[0m                                Traceback (most recent call last)",
      "\u001b[0;32m/var/folders/yy/hf82269576j_6v0vysz6mg_w0000gn/T/ipykernel_25556/2224984072.py\u001b[0m in \u001b[0;36m?\u001b[0;34m()\u001b[0m\n\u001b[0;32m----> 1\u001b[0;31m \u001b[0mnormalized_plot_total_rooms\u001b[0m \u001b[0;34m=\u001b[0m \u001b[0mplot_freq_dist\u001b[0m\u001b[0;34m(\u001b[0m\u001b[0mnormalized_total_rooms\u001b[0m\u001b[0;34m)\u001b[0m\u001b[0;34m\u001b[0m\u001b[0;34m\u001b[0m\u001b[0m\n\u001b[0m",
      "\u001b[0;32m/var/folders/yy/hf82269576j_6v0vysz6mg_w0000gn/T/ipykernel_25556/2930385993.py\u001b[0m in \u001b[0;36m?\u001b[0;34m(data)\u001b[0m\n\u001b[1;32m      9\u001b[0m     \u001b[0;31m# color of the histogram\u001b[0m\u001b[0;34m\u001b[0m\u001b[0;34m\u001b[0m\u001b[0m\n\u001b[1;32m     10\u001b[0m     \u001b[0mcolor\u001b[0m \u001b[0;34m=\u001b[0m \u001b[0;34m'black'\u001b[0m\u001b[0;34m\u001b[0m\u001b[0;34m\u001b[0m\u001b[0m\n\u001b[1;32m     11\u001b[0m \u001b[0;34m\u001b[0m\u001b[0m\n\u001b[1;32m     12\u001b[0m     \u001b[0;31m# define bins with accordance to the appropriate size\u001b[0m\u001b[0;34m\u001b[0m\u001b[0;34m\u001b[0m\u001b[0m\n\u001b[0;32m---> 13\u001b[0;31m     \u001b[0mbins\u001b[0m \u001b[0;34m=\u001b[0m \u001b[0mnp\u001b[0m\u001b[0;34m.\u001b[0m\u001b[0marange\u001b[0m\u001b[0;34m(\u001b[0m\u001b[0mdata\u001b[0m\u001b[0;34m.\u001b[0m\u001b[0mmin\u001b[0m\u001b[0;34m(\u001b[0m\u001b[0;34m)\u001b[0m\u001b[0;34m.\u001b[0m\u001b[0mitem\u001b[0m\u001b[0;34m(\u001b[0m\u001b[0;34m)\u001b[0m\u001b[0;34m,\u001b[0m \u001b[0mdata\u001b[0m\u001b[0;34m.\u001b[0m\u001b[0mmax\u001b[0m\u001b[0;34m(\u001b[0m\u001b[0;34m)\u001b[0m\u001b[0;34m.\u001b[0m\u001b[0mitem\u001b[0m\u001b[0;34m(\u001b[0m\u001b[0;34m)\u001b[0m \u001b[0;34m+\u001b[0m \u001b[0mw\u001b[0m\u001b[0;34m,\u001b[0m \u001b[0mw\u001b[0m\u001b[0;34m,\u001b[0m \u001b[0mdtype\u001b[0m\u001b[0;34m=\u001b[0m\u001b[0mfloat\u001b[0m\u001b[0;34m)\u001b[0m\u001b[0;34m\u001b[0m\u001b[0;34m\u001b[0m\u001b[0m\n\u001b[0m\u001b[1;32m     14\u001b[0m \u001b[0;34m\u001b[0m\u001b[0m\n\u001b[1;32m     15\u001b[0m     \u001b[0mplot\u001b[0m \u001b[0;34m=\u001b[0m \u001b[0mplt\u001b[0m\u001b[0;34m.\u001b[0m\u001b[0mhist\u001b[0m\u001b[0;34m(\u001b[0m\u001b[0mdata\u001b[0m\u001b[0;34m,\u001b[0m \u001b[0medgecolor\u001b[0m\u001b[0;34m=\u001b[0m\u001b[0mcolor\u001b[0m\u001b[0;34m,\u001b[0m \u001b[0mbins\u001b[0m\u001b[0;34m=\u001b[0m\u001b[0mbins\u001b[0m\u001b[0;34m)\u001b[0m\u001b[0;34m\u001b[0m\u001b[0;34m\u001b[0m\u001b[0m\n\u001b[1;32m     16\u001b[0m     \u001b[0;32mreturn\u001b[0m \u001b[0mplot\u001b[0m\u001b[0;34m\u001b[0m\u001b[0;34m\u001b[0m\u001b[0m\n",
      "\u001b[0;32m~/machine_learning_spring2024/.venv/lib/python3.11/site-packages/pandas/core/generic.py\u001b[0m in \u001b[0;36m?\u001b[0;34m(self)\u001b[0m\n\u001b[1;32m   1574\u001b[0m     \u001b[0;34m@\u001b[0m\u001b[0mfinal\u001b[0m\u001b[0;34m\u001b[0m\u001b[0;34m\u001b[0m\u001b[0m\n\u001b[1;32m   1575\u001b[0m     \u001b[0;32mdef\u001b[0m \u001b[0m__nonzero__\u001b[0m\u001b[0;34m(\u001b[0m\u001b[0mself\u001b[0m\u001b[0;34m)\u001b[0m \u001b[0;34m->\u001b[0m \u001b[0mNoReturn\u001b[0m\u001b[0;34m:\u001b[0m\u001b[0;34m\u001b[0m\u001b[0;34m\u001b[0m\u001b[0m\n\u001b[0;32m-> 1576\u001b[0;31m         raise ValueError(\n\u001b[0m\u001b[1;32m   1577\u001b[0m             \u001b[0;34mf\"The truth value of a {type(self).__name__} is ambiguous. \"\u001b[0m\u001b[0;34m\u001b[0m\u001b[0;34m\u001b[0m\u001b[0m\n\u001b[1;32m   1578\u001b[0m             \u001b[0;34m\"Use a.empty, a.bool(), a.item(), a.any() or a.all().\"\u001b[0m\u001b[0;34m\u001b[0m\u001b[0;34m\u001b[0m\u001b[0m\n\u001b[1;32m   1579\u001b[0m         )\n",
      "\u001b[0;31mValueError\u001b[0m: The truth value of a Series is ambiguous. Use a.empty, a.bool(), a.item(), a.any() or a.all()."
     ]
    }
   ],
   "source": [
    "normalized_plot_total_rooms = plot_freq_dist(normalized_total_rooms)"
   ]
  },
  {
   "cell_type": "code",
   "execution_count": null,
   "id": "5bc62dd5-8b1b-47ad-b826-06a178a62e8b",
   "metadata": {},
   "outputs": [],
   "source": []
  }
 ],
 "metadata": {
  "kernelspec": {
   "display_name": "Python 3 (ipykernel)",
   "language": "python",
   "name": "python3"
  },
  "language_info": {
   "codemirror_mode": {
    "name": "ipython",
    "version": 3
   },
   "file_extension": ".py",
   "mimetype": "text/x-python",
   "name": "python",
   "nbconvert_exporter": "python",
   "pygments_lexer": "ipython3",
   "version": "3.11.6"
  }
 },
 "nbformat": 4,
 "nbformat_minor": 5
}
