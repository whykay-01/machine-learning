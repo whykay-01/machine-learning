{
  "cells": [
    {
      "cell_type": "markdown",
      "id": "cd86ea93",
      "metadata": {
        "id": "cd86ea93"
      },
      "source": [
        "# Introduction to Machine Learning with Pytorch\n",
        "\n",
        "**Recitation by Dr. Duygu Ataman**\n",
        "\n",
        "_02/01/2024, 09:30, 14:00 at Room 150_\n",
        "\n",
        "_02/01/2024, 10:15-10:45 Office Hour at Room 524 (For any follow-up questions)_\n"
      ]
    },
    {
      "cell_type": "markdown",
      "id": "8cf0bb33",
      "metadata": {
        "id": "8cf0bb33"
      },
      "source": [
        "In these lab sessions, we will be using Jupyter notebooks running on Google Colab, which has most Python libraries installed.\n",
        "\n",
        "Please make a copy of this notebook in your own Google Drive so you could access your own version and edit the contents to write your answers to given exercises.\n",
        "    \n",
        "This session introduces the cutting-edge machine learning library [PyTorch](https://pytorch.org). With its built-in support for distributed computation, user-friendly programming and debugging functionalities, today it is the most preferred library for machine learning research.\n",
        "\n",
        "Once you are set, let's start a new Python program and check if you can access PyTorch and its version."
      ]
    },
    {
      "cell_type": "code",
      "execution_count": null,
      "id": "ba1b38c9",
      "metadata": {
        "id": "ba1b38c9",
        "colab": {
          "base_uri": "https://localhost:8080/",
          "height": 56
        },
        "outputId": "c85c156f-7703-48b7-a24a-9e7532c6b570"
      },
      "outputs": [
        {
          "output_type": "execute_result",
          "data": {
            "text/plain": [
              "'2.1.0+cu121'"
            ],
            "application/vnd.google.colaboratory.intrinsic+json": {
              "type": "string"
            }
          },
          "metadata": {},
          "execution_count": 1
        }
      ],
      "source": [
        "import torch\n",
        "torch.__version__"
      ]
    },
    {
      "cell_type": "markdown",
      "id": "18c32dfe",
      "metadata": {
        "id": "18c32dfe"
      },
      "source": [
        "## Tensors in PyTorch"
      ]
    },
    {
      "cell_type": "markdown",
      "id": "3864f4d4",
      "metadata": {
        "id": "3864f4d4"
      },
      "source": [
        "In PyTorch, all variables representing information in multi-dimensional space, such as vectors and matrices, are referred to as tensors.\n",
        "\n",
        "We can initialize a vector with two elements with specific values as follows."
      ]
    },
    {
      "cell_type": "code",
      "execution_count": null,
      "id": "705d02ed",
      "metadata": {
        "id": "705d02ed",
        "colab": {
          "base_uri": "https://localhost:8080/"
        },
        "outputId": "020a64f4-9c2e-4c85-98b2-f4717ae63355"
      },
      "outputs": [
        {
          "output_type": "execute_result",
          "data": {
            "text/plain": [
              "tensor([1, 2])"
            ]
          },
          "metadata": {},
          "execution_count": 2
        }
      ],
      "source": [
        "torch.tensor([1, 2])"
      ]
    },
    {
      "cell_type": "markdown",
      "id": "6dc98b0a",
      "metadata": {
        "id": "6dc98b0a"
      },
      "source": [
        "We could do the same for a matrix of size 3x3."
      ]
    },
    {
      "cell_type": "code",
      "execution_count": null,
      "id": "d51769f3",
      "metadata": {
        "id": "d51769f3",
        "colab": {
          "base_uri": "https://localhost:8080/"
        },
        "outputId": "5bd5651e-ec08-47dd-a4b7-7c7f29e0226c"
      },
      "outputs": [
        {
          "output_type": "execute_result",
          "data": {
            "text/plain": [
              "tensor([[1, 2, 3],\n",
              "        [4, 5, 6],\n",
              "        [7, 8, 9]])"
            ]
          },
          "metadata": {},
          "execution_count": 3
        }
      ],
      "source": [
        "torch.tensor([[1, 2, 3], [4, 5, 6], [7, 8, 9]])"
      ]
    },
    {
      "cell_type": "markdown",
      "id": "12c78454",
      "metadata": {
        "id": "12c78454"
      },
      "source": [
        "Accesing specific elements in a tensor is straightforward using square indicing, one index representing the position of the element in each dimension:"
      ]
    },
    {
      "cell_type": "code",
      "execution_count": null,
      "id": "57330cd5",
      "metadata": {
        "id": "57330cd5",
        "colab": {
          "base_uri": "https://localhost:8080/"
        },
        "outputId": "35776e09-bb02-48aa-b5bf-53f8c1727b83"
      },
      "outputs": [
        {
          "output_type": "execute_result",
          "data": {
            "text/plain": [
              "tensor(1)"
            ]
          },
          "metadata": {},
          "execution_count": 4
        }
      ],
      "source": [
        "x = torch.tensor([[1, 2, 3], [4, 5, 6], [7, 8, 9]])\n",
        "x[0, 0]"
      ]
    },
    {
      "cell_type": "markdown",
      "id": "8c392534",
      "metadata": {
        "id": "8c392534"
      },
      "source": [
        "The first index will access the first dimension, whereas the second index will access the second dimension. The element in the second row, third column can be accessed with:"
      ]
    },
    {
      "cell_type": "code",
      "execution_count": null,
      "id": "326456cf",
      "metadata": {
        "id": "326456cf",
        "colab": {
          "base_uri": "https://localhost:8080/"
        },
        "outputId": "ff25c34a-c792-4f0a-b7e2-512acebcfa4a"
      },
      "outputs": [
        {
          "output_type": "execute_result",
          "data": {
            "text/plain": [
              "tensor(6)"
            ]
          },
          "metadata": {},
          "execution_count": 5
        }
      ],
      "source": [
        "x[1, 2]"
      ]
    },
    {
      "cell_type": "markdown",
      "id": "a42e907e",
      "metadata": {
        "id": "a42e907e"
      },
      "source": [
        "Note that all elements in a tensor are still encoded as tensors, even if they are unidimensional.\n",
        "\n",
        "We can use direct indexing to access an entire row or column of a matrix. For instance, the second row of x will be indexed through the 1st position in the 1st dimension:"
      ]
    },
    {
      "cell_type": "code",
      "execution_count": null,
      "id": "bc9aec54",
      "metadata": {
        "id": "bc9aec54",
        "colab": {
          "base_uri": "https://localhost:8080/"
        },
        "outputId": "6ac6117b-9bca-43be-9443-a0055be603aa"
      },
      "outputs": [
        {
          "output_type": "execute_result",
          "data": {
            "text/plain": [
              "tensor([4, 5, 6])"
            ]
          },
          "metadata": {},
          "execution_count": 6
        }
      ],
      "source": [
        "x[1, :]"
      ]
    },
    {
      "cell_type": "markdown",
      "id": "96d0e6c6",
      "metadata": {
        "id": "96d0e6c6"
      },
      "source": [
        "And the first column is indexed as the 0th position in the 2nd dimension:"
      ]
    },
    {
      "cell_type": "code",
      "execution_count": null,
      "id": "f876435e",
      "metadata": {
        "id": "f876435e",
        "colab": {
          "base_uri": "https://localhost:8080/"
        },
        "outputId": "c3364d8b-732c-4f7a-9abe-89c35d2a976e"
      },
      "outputs": [
        {
          "output_type": "execute_result",
          "data": {
            "text/plain": [
              "tensor([1, 4, 7])"
            ]
          },
          "metadata": {},
          "execution_count": 7
        }
      ],
      "source": [
        "x[:, 0]"
      ]
    },
    {
      "cell_type": "markdown",
      "id": "cc41793d",
      "metadata": {
        "id": "cc41793d"
      },
      "source": [
        "We can check the dimensions of a tensor using the torch.shape function:"
      ]
    },
    {
      "cell_type": "code",
      "execution_count": null,
      "id": "d0d4f8a9",
      "metadata": {
        "id": "d0d4f8a9",
        "colab": {
          "base_uri": "https://localhost:8080/"
        },
        "outputId": "fc449fed-6c45-4751-83e9-d613294a8f70"
      },
      "outputs": [
        {
          "output_type": "execute_result",
          "data": {
            "text/plain": [
              "torch.Size([3, 3])"
            ]
          },
          "metadata": {},
          "execution_count": 8
        }
      ],
      "source": [
        "x.shape"
      ]
    },
    {
      "cell_type": "markdown",
      "id": "104bd8ef",
      "metadata": {
        "id": "104bd8ef"
      },
      "source": [
        "By default, the torch.tensor function creates a tensor with variables of type torch.int64 (64-bit integer). You can check this with the torch.dtype function:"
      ]
    },
    {
      "cell_type": "code",
      "execution_count": null,
      "id": "6d17f53c",
      "metadata": {
        "id": "6d17f53c",
        "colab": {
          "base_uri": "https://localhost:8080/"
        },
        "outputId": "a4582023-6988-4dde-9d06-9064462d130b"
      },
      "outputs": [
        {
          "output_type": "execute_result",
          "data": {
            "text/plain": [
              "torch.int64"
            ]
          },
          "metadata": {},
          "execution_count": 9
        }
      ],
      "source": [
        "x.dtype"
      ]
    },
    {
      "cell_type": "markdown",
      "id": "e8350934",
      "metadata": {
        "id": "e8350934"
      },
      "source": [
        "If we wanted to convert the type of information stored in the tensor we could do so using the Python conversion functions."
      ]
    },
    {
      "cell_type": "code",
      "execution_count": null,
      "id": "35cd476e",
      "metadata": {
        "id": "35cd476e",
        "colab": {
          "base_uri": "https://localhost:8080/"
        },
        "outputId": "abf452d8-ce3f-4f2c-eb29-ef12174a33b5"
      },
      "outputs": [
        {
          "output_type": "execute_result",
          "data": {
            "text/plain": [
              "1"
            ]
          },
          "metadata": {},
          "execution_count": 10
        }
      ],
      "source": [
        "int(x[0, 0])"
      ]
    },
    {
      "cell_type": "markdown",
      "id": "219702ef",
      "metadata": {
        "id": "219702ef"
      },
      "source": [
        "Other torch functions can help specify creating tensors of a given type:"
      ]
    },
    {
      "cell_type": "code",
      "execution_count": null,
      "id": "ee235fac",
      "metadata": {
        "id": "ee235fac",
        "colab": {
          "base_uri": "https://localhost:8080/"
        },
        "outputId": "f31623e4-579a-4ad4-b645-f636711d162a"
      },
      "outputs": [
        {
          "output_type": "execute_result",
          "data": {
            "text/plain": [
              "torch.uint8"
            ]
          },
          "metadata": {},
          "execution_count": 11
        }
      ],
      "source": [
        "x = torch.ByteTensor([1, 2])\n",
        "x.dtype"
      ]
    },
    {
      "cell_type": "code",
      "execution_count": null,
      "id": "879d90c2",
      "metadata": {
        "id": "879d90c2",
        "colab": {
          "base_uri": "https://localhost:8080/"
        },
        "outputId": "368c1411-6b12-4443-95a2-ab1880bd4367"
      },
      "outputs": [
        {
          "output_type": "execute_result",
          "data": {
            "text/plain": [
              "torch.int16"
            ]
          },
          "metadata": {},
          "execution_count": 12
        }
      ],
      "source": [
        "x = torch.ShortTensor([1, 2])\n",
        "x.dtype"
      ]
    },
    {
      "cell_type": "code",
      "execution_count": null,
      "id": "c553aef1",
      "metadata": {
        "id": "c553aef1",
        "colab": {
          "base_uri": "https://localhost:8080/"
        },
        "outputId": "a173c866-041a-4a7d-c4cb-857608ea9364"
      },
      "outputs": [
        {
          "output_type": "execute_result",
          "data": {
            "text/plain": [
              "torch.int32"
            ]
          },
          "metadata": {},
          "execution_count": 13
        }
      ],
      "source": [
        "x = torch.IntTensor([1, 2])\n",
        "x.dtype"
      ]
    },
    {
      "cell_type": "code",
      "execution_count": null,
      "id": "1cc5ba3f",
      "metadata": {
        "id": "1cc5ba3f",
        "colab": {
          "base_uri": "https://localhost:8080/"
        },
        "outputId": "2a27a20d-12ca-46b4-cc31-3b3500fbf998"
      },
      "outputs": [
        {
          "output_type": "execute_result",
          "data": {
            "text/plain": [
              "torch.int64"
            ]
          },
          "metadata": {},
          "execution_count": 14
        }
      ],
      "source": [
        "x = torch.LongTensor([1, 2])\n",
        "x.dtype"
      ]
    },
    {
      "cell_type": "markdown",
      "id": "101c92e3",
      "metadata": {
        "id": "101c92e3"
      },
      "source": [
        "Being able to specify the type is usually helpful to control the memory space used in our program, which can easily become demanding with applications in machine learning. The computations will be faster as the numbers get shorter.\n",
        "\n",
        "In double precision, we similarly have helper functions for initializing floating-point numbers in any tensor. Same algebraic operations in Python will be applicable in this case."
      ]
    },
    {
      "cell_type": "code",
      "execution_count": null,
      "id": "53f7560d",
      "metadata": {
        "id": "53f7560d",
        "colab": {
          "base_uri": "https://localhost:8080/"
        },
        "outputId": "74db786a-45e4-4006-dd04-be6cb3b4e388"
      },
      "outputs": [
        {
          "output_type": "execute_result",
          "data": {
            "text/plain": [
              "torch.float32"
            ]
          },
          "metadata": {},
          "execution_count": 15
        }
      ],
      "source": [
        "y = torch.FloatTensor([[0.5, 1.7], [14.8, 9.2]])\n",
        "y.dtype"
      ]
    },
    {
      "cell_type": "code",
      "execution_count": null,
      "id": "92a7f1b8",
      "metadata": {
        "id": "92a7f1b8",
        "colab": {
          "base_uri": "https://localhost:8080/"
        },
        "outputId": "417c94da-0a8d-4fb2-fea9-4c969ab2ff74"
      },
      "outputs": [
        {
          "output_type": "execute_result",
          "data": {
            "text/plain": [
              "torch.float64"
            ]
          },
          "metadata": {},
          "execution_count": 16
        }
      ],
      "source": [
        "z = torch.DoubleTensor([[0.5, 1.7], [14.8, 9.2]])\n",
        "\n",
        "z.dtype"
      ]
    },
    {
      "cell_type": "markdown",
      "id": "97fcfe1c",
      "metadata": {
        "id": "97fcfe1c"
      },
      "source": [
        "For more information please refer to the official documentation on [PyTorch Data Types](https://pytorch.org/docs/stable/tensors.html).\n",
        "\n",
        "For initializing larger tensors, PyTorch has the functionality of automatic creating of sample tensors."
      ]
    },
    {
      "cell_type": "markdown",
      "id": "790012d4",
      "metadata": {
        "id": "790012d4"
      },
      "source": [
        "For instance, we can create a tensor of size (10, 10, 10) and initialize all elements as zero with torch.zeros:"
      ]
    },
    {
      "cell_type": "code",
      "execution_count": null,
      "id": "29409f6d",
      "metadata": {
        "id": "29409f6d",
        "colab": {
          "base_uri": "https://localhost:8080/"
        },
        "outputId": "31b96928-85cc-4406-ab54-e3b0cf388dc8"
      },
      "outputs": [
        {
          "output_type": "execute_result",
          "data": {
            "text/plain": [
              "tensor([[[0., 0., 0., 0., 0., 0., 0., 0., 0., 0.],\n",
              "         [0., 0., 0., 0., 0., 0., 0., 0., 0., 0.],\n",
              "         [0., 0., 0., 0., 0., 0., 0., 0., 0., 0.],\n",
              "         [0., 0., 0., 0., 0., 0., 0., 0., 0., 0.],\n",
              "         [0., 0., 0., 0., 0., 0., 0., 0., 0., 0.],\n",
              "         [0., 0., 0., 0., 0., 0., 0., 0., 0., 0.],\n",
              "         [0., 0., 0., 0., 0., 0., 0., 0., 0., 0.],\n",
              "         [0., 0., 0., 0., 0., 0., 0., 0., 0., 0.],\n",
              "         [0., 0., 0., 0., 0., 0., 0., 0., 0., 0.],\n",
              "         [0., 0., 0., 0., 0., 0., 0., 0., 0., 0.]],\n",
              "\n",
              "        [[0., 0., 0., 0., 0., 0., 0., 0., 0., 0.],\n",
              "         [0., 0., 0., 0., 0., 0., 0., 0., 0., 0.],\n",
              "         [0., 0., 0., 0., 0., 0., 0., 0., 0., 0.],\n",
              "         [0., 0., 0., 0., 0., 0., 0., 0., 0., 0.],\n",
              "         [0., 0., 0., 0., 0., 0., 0., 0., 0., 0.],\n",
              "         [0., 0., 0., 0., 0., 0., 0., 0., 0., 0.],\n",
              "         [0., 0., 0., 0., 0., 0., 0., 0., 0., 0.],\n",
              "         [0., 0., 0., 0., 0., 0., 0., 0., 0., 0.],\n",
              "         [0., 0., 0., 0., 0., 0., 0., 0., 0., 0.],\n",
              "         [0., 0., 0., 0., 0., 0., 0., 0., 0., 0.]],\n",
              "\n",
              "        [[0., 0., 0., 0., 0., 0., 0., 0., 0., 0.],\n",
              "         [0., 0., 0., 0., 0., 0., 0., 0., 0., 0.],\n",
              "         [0., 0., 0., 0., 0., 0., 0., 0., 0., 0.],\n",
              "         [0., 0., 0., 0., 0., 0., 0., 0., 0., 0.],\n",
              "         [0., 0., 0., 0., 0., 0., 0., 0., 0., 0.],\n",
              "         [0., 0., 0., 0., 0., 0., 0., 0., 0., 0.],\n",
              "         [0., 0., 0., 0., 0., 0., 0., 0., 0., 0.],\n",
              "         [0., 0., 0., 0., 0., 0., 0., 0., 0., 0.],\n",
              "         [0., 0., 0., 0., 0., 0., 0., 0., 0., 0.],\n",
              "         [0., 0., 0., 0., 0., 0., 0., 0., 0., 0.]],\n",
              "\n",
              "        [[0., 0., 0., 0., 0., 0., 0., 0., 0., 0.],\n",
              "         [0., 0., 0., 0., 0., 0., 0., 0., 0., 0.],\n",
              "         [0., 0., 0., 0., 0., 0., 0., 0., 0., 0.],\n",
              "         [0., 0., 0., 0., 0., 0., 0., 0., 0., 0.],\n",
              "         [0., 0., 0., 0., 0., 0., 0., 0., 0., 0.],\n",
              "         [0., 0., 0., 0., 0., 0., 0., 0., 0., 0.],\n",
              "         [0., 0., 0., 0., 0., 0., 0., 0., 0., 0.],\n",
              "         [0., 0., 0., 0., 0., 0., 0., 0., 0., 0.],\n",
              "         [0., 0., 0., 0., 0., 0., 0., 0., 0., 0.],\n",
              "         [0., 0., 0., 0., 0., 0., 0., 0., 0., 0.]],\n",
              "\n",
              "        [[0., 0., 0., 0., 0., 0., 0., 0., 0., 0.],\n",
              "         [0., 0., 0., 0., 0., 0., 0., 0., 0., 0.],\n",
              "         [0., 0., 0., 0., 0., 0., 0., 0., 0., 0.],\n",
              "         [0., 0., 0., 0., 0., 0., 0., 0., 0., 0.],\n",
              "         [0., 0., 0., 0., 0., 0., 0., 0., 0., 0.],\n",
              "         [0., 0., 0., 0., 0., 0., 0., 0., 0., 0.],\n",
              "         [0., 0., 0., 0., 0., 0., 0., 0., 0., 0.],\n",
              "         [0., 0., 0., 0., 0., 0., 0., 0., 0., 0.],\n",
              "         [0., 0., 0., 0., 0., 0., 0., 0., 0., 0.],\n",
              "         [0., 0., 0., 0., 0., 0., 0., 0., 0., 0.]],\n",
              "\n",
              "        [[0., 0., 0., 0., 0., 0., 0., 0., 0., 0.],\n",
              "         [0., 0., 0., 0., 0., 0., 0., 0., 0., 0.],\n",
              "         [0., 0., 0., 0., 0., 0., 0., 0., 0., 0.],\n",
              "         [0., 0., 0., 0., 0., 0., 0., 0., 0., 0.],\n",
              "         [0., 0., 0., 0., 0., 0., 0., 0., 0., 0.],\n",
              "         [0., 0., 0., 0., 0., 0., 0., 0., 0., 0.],\n",
              "         [0., 0., 0., 0., 0., 0., 0., 0., 0., 0.],\n",
              "         [0., 0., 0., 0., 0., 0., 0., 0., 0., 0.],\n",
              "         [0., 0., 0., 0., 0., 0., 0., 0., 0., 0.],\n",
              "         [0., 0., 0., 0., 0., 0., 0., 0., 0., 0.]],\n",
              "\n",
              "        [[0., 0., 0., 0., 0., 0., 0., 0., 0., 0.],\n",
              "         [0., 0., 0., 0., 0., 0., 0., 0., 0., 0.],\n",
              "         [0., 0., 0., 0., 0., 0., 0., 0., 0., 0.],\n",
              "         [0., 0., 0., 0., 0., 0., 0., 0., 0., 0.],\n",
              "         [0., 0., 0., 0., 0., 0., 0., 0., 0., 0.],\n",
              "         [0., 0., 0., 0., 0., 0., 0., 0., 0., 0.],\n",
              "         [0., 0., 0., 0., 0., 0., 0., 0., 0., 0.],\n",
              "         [0., 0., 0., 0., 0., 0., 0., 0., 0., 0.],\n",
              "         [0., 0., 0., 0., 0., 0., 0., 0., 0., 0.],\n",
              "         [0., 0., 0., 0., 0., 0., 0., 0., 0., 0.]],\n",
              "\n",
              "        [[0., 0., 0., 0., 0., 0., 0., 0., 0., 0.],\n",
              "         [0., 0., 0., 0., 0., 0., 0., 0., 0., 0.],\n",
              "         [0., 0., 0., 0., 0., 0., 0., 0., 0., 0.],\n",
              "         [0., 0., 0., 0., 0., 0., 0., 0., 0., 0.],\n",
              "         [0., 0., 0., 0., 0., 0., 0., 0., 0., 0.],\n",
              "         [0., 0., 0., 0., 0., 0., 0., 0., 0., 0.],\n",
              "         [0., 0., 0., 0., 0., 0., 0., 0., 0., 0.],\n",
              "         [0., 0., 0., 0., 0., 0., 0., 0., 0., 0.],\n",
              "         [0., 0., 0., 0., 0., 0., 0., 0., 0., 0.],\n",
              "         [0., 0., 0., 0., 0., 0., 0., 0., 0., 0.]],\n",
              "\n",
              "        [[0., 0., 0., 0., 0., 0., 0., 0., 0., 0.],\n",
              "         [0., 0., 0., 0., 0., 0., 0., 0., 0., 0.],\n",
              "         [0., 0., 0., 0., 0., 0., 0., 0., 0., 0.],\n",
              "         [0., 0., 0., 0., 0., 0., 0., 0., 0., 0.],\n",
              "         [0., 0., 0., 0., 0., 0., 0., 0., 0., 0.],\n",
              "         [0., 0., 0., 0., 0., 0., 0., 0., 0., 0.],\n",
              "         [0., 0., 0., 0., 0., 0., 0., 0., 0., 0.],\n",
              "         [0., 0., 0., 0., 0., 0., 0., 0., 0., 0.],\n",
              "         [0., 0., 0., 0., 0., 0., 0., 0., 0., 0.],\n",
              "         [0., 0., 0., 0., 0., 0., 0., 0., 0., 0.]],\n",
              "\n",
              "        [[0., 0., 0., 0., 0., 0., 0., 0., 0., 0.],\n",
              "         [0., 0., 0., 0., 0., 0., 0., 0., 0., 0.],\n",
              "         [0., 0., 0., 0., 0., 0., 0., 0., 0., 0.],\n",
              "         [0., 0., 0., 0., 0., 0., 0., 0., 0., 0.],\n",
              "         [0., 0., 0., 0., 0., 0., 0., 0., 0., 0.],\n",
              "         [0., 0., 0., 0., 0., 0., 0., 0., 0., 0.],\n",
              "         [0., 0., 0., 0., 0., 0., 0., 0., 0., 0.],\n",
              "         [0., 0., 0., 0., 0., 0., 0., 0., 0., 0.],\n",
              "         [0., 0., 0., 0., 0., 0., 0., 0., 0., 0.],\n",
              "         [0., 0., 0., 0., 0., 0., 0., 0., 0., 0.]]])"
            ]
          },
          "metadata": {},
          "execution_count": 17
        }
      ],
      "source": [
        "torch.zeros(10, 10, 10)"
      ]
    },
    {
      "cell_type": "markdown",
      "id": "ecf9a007",
      "metadata": {
        "id": "ecf9a007"
      },
      "source": [
        "Similarly, we can create a tensor of size (1, 25) and initialize all elements as 1 using torch.ones"
      ]
    },
    {
      "cell_type": "code",
      "execution_count": null,
      "id": "b09bed01",
      "metadata": {
        "id": "b09bed01",
        "colab": {
          "base_uri": "https://localhost:8080/"
        },
        "outputId": "55844377-a798-4fe6-91f6-b5c9ea05e281"
      },
      "outputs": [
        {
          "output_type": "execute_result",
          "data": {
            "text/plain": [
              "tensor([[1., 1., 1., 1., 1., 1., 1., 1., 1., 1., 1., 1., 1., 1., 1., 1., 1., 1.,\n",
              "         1., 1., 1., 1., 1., 1., 1.]])"
            ]
          },
          "metadata": {},
          "execution_count": 18
        }
      ],
      "source": [
        "torch.ones(1, 25)"
      ]
    },
    {
      "cell_type": "markdown",
      "id": "b1e5013f",
      "metadata": {
        "id": "b1e5013f"
      },
      "source": [
        "We could even initialize a tensor filled with random values with torch.randn as follows:"
      ]
    },
    {
      "cell_type": "code",
      "execution_count": null,
      "id": "1f488c02",
      "metadata": {
        "id": "1f488c02",
        "colab": {
          "base_uri": "https://localhost:8080/"
        },
        "outputId": "4bef6a05-eb5a-4a04-aa96-3ac1a12d9e84"
      },
      "outputs": [
        {
          "output_type": "execute_result",
          "data": {
            "text/plain": [
              "tensor([[ 4.2015e-01, -2.2524e-01, -6.6252e-01,  5.1452e-01, -1.8752e+00],\n",
              "        [ 8.6536e-01, -1.8048e-03, -1.2215e+00, -1.7575e+00,  2.2970e-01],\n",
              "        [ 1.2869e-01,  2.9085e-01, -2.1332e-01,  8.0047e-01,  3.0752e-01],\n",
              "        [ 4.6596e-01, -1.8098e-01,  3.0041e-02,  1.8999e-01,  3.1583e-01],\n",
              "        [-5.4082e-01,  1.7064e+00, -1.9269e-01, -1.0587e+00, -4.3083e-01]])"
            ]
          },
          "metadata": {},
          "execution_count": 19
        }
      ],
      "source": [
        "torch.randn(5,5)"
      ]
    },
    {
      "cell_type": "markdown",
      "id": "6899c1b1",
      "metadata": {
        "id": "6899c1b1"
      },
      "source": [
        "## Tensor Operations\n",
        "\n"
      ]
    },
    {
      "cell_type": "markdown",
      "id": "b070748d",
      "metadata": {
        "id": "b070748d"
      },
      "source": [
        "PyTorch has many functionalities for linear operations on vectors and matrices. Direct element-wise operations for addition, subtraction, multiplication and division can be implemented using the standard Python notation."
      ]
    },
    {
      "cell_type": "code",
      "execution_count": null,
      "id": "eefc7b4f",
      "metadata": {
        "id": "eefc7b4f",
        "colab": {
          "base_uri": "https://localhost:8080/"
        },
        "outputId": "ab28e041-6f89-496e-9e55-c7dac3010266"
      },
      "outputs": [
        {
          "output_type": "execute_result",
          "data": {
            "text/plain": [
              "tensor([[ 6, 11, 10],\n",
              "        [ 8,  4, 10],\n",
              "        [ 7, 11, 18]])"
            ]
          },
          "metadata": {},
          "execution_count": 20
        }
      ],
      "source": [
        "x = torch.tensor([[5, 2, 7], [6, 0, 3], [3, 2, 8]])\n",
        "y = torch.tensor([[1, 9, 3], [2, 4, 7], [4, 9, 10]])\n",
        "\n",
        "x + y"
      ]
    },
    {
      "cell_type": "code",
      "execution_count": null,
      "id": "3b7d6b81",
      "metadata": {
        "id": "3b7d6b81",
        "colab": {
          "base_uri": "https://localhost:8080/"
        },
        "outputId": "98519bf0-3f1e-4fa9-ee8f-7f92ade9bc65"
      },
      "outputs": [
        {
          "output_type": "execute_result",
          "data": {
            "text/plain": [
              "tensor([[ 4, -7,  4],\n",
              "        [ 4, -4, -4],\n",
              "        [-1, -7, -2]])"
            ]
          },
          "metadata": {},
          "execution_count": 21
        }
      ],
      "source": [
        "x - y"
      ]
    },
    {
      "cell_type": "code",
      "execution_count": null,
      "id": "f9d71b37",
      "metadata": {
        "id": "f9d71b37",
        "colab": {
          "base_uri": "https://localhost:8080/"
        },
        "outputId": "007dc906-01b8-4897-a689-ae6bdceecc45"
      },
      "outputs": [
        {
          "output_type": "execute_result",
          "data": {
            "text/plain": [
              "tensor([[ 5, 18, 21],\n",
              "        [12,  0, 21],\n",
              "        [12, 18, 80]])"
            ]
          },
          "metadata": {},
          "execution_count": 22
        }
      ],
      "source": [
        "x * y"
      ]
    },
    {
      "cell_type": "code",
      "execution_count": null,
      "id": "bfe11850",
      "metadata": {
        "id": "bfe11850",
        "colab": {
          "base_uri": "https://localhost:8080/"
        },
        "outputId": "351baae6-5592-4e41-d034-b220e44ba0e1"
      },
      "outputs": [
        {
          "output_type": "execute_result",
          "data": {
            "text/plain": [
              "tensor([[5.0000, 0.2222, 2.3333],\n",
              "        [3.0000, 0.0000, 0.4286],\n",
              "        [0.7500, 0.2222, 0.8000]])"
            ]
          },
          "metadata": {},
          "execution_count": 23
        }
      ],
      "source": [
        "x / y"
      ]
    },
    {
      "cell_type": "markdown",
      "id": "76f2b108",
      "metadata": {
        "id": "76f2b108"
      },
      "source": [
        "Note that similar to algebraic notation, matrix multiplication is not equivalent to the standard multiplication operation, denoted with the '*' symbol. Matrix multiplication in PyTorch can be implemented with the '@' operator, or the torch.matmul function."
      ]
    },
    {
      "cell_type": "code",
      "execution_count": null,
      "id": "10845860",
      "metadata": {
        "id": "10845860",
        "colab": {
          "base_uri": "https://localhost:8080/"
        },
        "outputId": "cbc85497-88cc-41e1-8b3e-7ed7744b07cd"
      },
      "outputs": [
        {
          "output_type": "execute_result",
          "data": {
            "text/plain": [
              "tensor([[ 37, 116,  99],\n",
              "        [ 18,  81,  48],\n",
              "        [ 39, 107, 103]])"
            ]
          },
          "metadata": {},
          "execution_count": 24
        }
      ],
      "source": [
        "x @ y"
      ]
    },
    {
      "cell_type": "code",
      "execution_count": null,
      "id": "aa2b3c34",
      "metadata": {
        "id": "aa2b3c34",
        "colab": {
          "base_uri": "https://localhost:8080/"
        },
        "outputId": "6adbf33f-e975-4875-e907-1a216ab5ae49"
      },
      "outputs": [
        {
          "output_type": "execute_result",
          "data": {
            "text/plain": [
              "tensor([[ 37, 116,  99],\n",
              "        [ 18,  81,  48],\n",
              "        [ 39, 107, 103]])"
            ]
          },
          "metadata": {},
          "execution_count": 25
        }
      ],
      "source": [
        "torch. matmul(x, y)"
      ]
    },
    {
      "cell_type": "markdown",
      "id": "88685084-cc86-4baf-a700-541b671d59da",
      "metadata": {
        "id": "88685084-cc86-4baf-a700-541b671d59da"
      },
      "source": [
        "## Fundamental properties of vectors and matrices"
      ]
    },
    {
      "cell_type": "markdown",
      "id": "693bc2cd-713a-4f8f-bf0b-e67b20f44ddc",
      "metadata": {
        "id": "693bc2cd-713a-4f8f-bf0b-e67b20f44ddc"
      },
      "source": [
        "We can also use PyTorch to study additional properties of a tensor. Let's revisit concepts from vector spaces and measure some fundamental properties of a vector. If x is a three dimensional vector defined as:"
      ]
    },
    {
      "cell_type": "code",
      "execution_count": null,
      "id": "887a4c72-5b0e-40d8-b17b-91baf30b523c",
      "metadata": {
        "id": "887a4c72-5b0e-40d8-b17b-91baf30b523c"
      },
      "outputs": [],
      "source": [
        "x = torch.tensor([1, 2, 3])"
      ]
    },
    {
      "cell_type": "markdown",
      "id": "d7826fc6-adc7-4121-9ce2-91edea54fa1d",
      "metadata": {
        "id": "d7826fc6-adc7-4121-9ce2-91edea54fa1d"
      },
      "source": [
        "The magnitude of x is defined as the Euclidean norm of the values at each dimension summed together:"
      ]
    },
    {
      "cell_type": "code",
      "execution_count": null,
      "id": "c8b2dcf8-6cd1-4880-8096-d0ad619150b1",
      "metadata": {
        "id": "c8b2dcf8-6cd1-4880-8096-d0ad619150b1",
        "colab": {
          "base_uri": "https://localhost:8080/"
        },
        "outputId": "eb193acb-6d42-4fb7-ed72-7de16808dedd"
      },
      "outputs": [
        {
          "output_type": "stream",
          "name": "stdout",
          "text": [
            "Magnitude of x is:  tensor(3.7417)\n"
          ]
        }
      ],
      "source": [
        "magX = torch.sqrt(x[0]**2 + x[1]**2 + x[2]**2)\n",
        "print(\"Magnitude of x is: \", magX)"
      ]
    },
    {
      "cell_type": "markdown",
      "id": "63947889",
      "metadata": {
        "id": "63947889"
      },
      "source": [
        "Similarly, we can compare geometric properties of two vectors using these fundamental properties. Imagine a second vector y with the following three dimensional definition:\n"
      ]
    },
    {
      "cell_type": "code",
      "execution_count": null,
      "id": "cf709ede-68e3-42d6-8fa1-677f545ba664",
      "metadata": {
        "id": "cf709ede-68e3-42d6-8fa1-677f545ba664"
      },
      "outputs": [],
      "source": [
        "y = torch.tensor([2, 0, 5])"
      ]
    },
    {
      "cell_type": "markdown",
      "id": "0e361ebf-a61e-40da-92dc-335b6d105fdb",
      "metadata": {
        "id": "0e361ebf-a61e-40da-92dc-335b6d105fdb"
      },
      "source": [
        "The magnitude of y is:"
      ]
    },
    {
      "cell_type": "code",
      "execution_count": null,
      "id": "cea86532-0f41-4fa1-99b2-2266fa30f279",
      "metadata": {
        "id": "cea86532-0f41-4fa1-99b2-2266fa30f279",
        "colab": {
          "base_uri": "https://localhost:8080/"
        },
        "outputId": "bf9424c3-5d59-4bd3-e079-a1a2be80db2d"
      },
      "outputs": [
        {
          "output_type": "stream",
          "name": "stdout",
          "text": [
            "Magnitude of y is:  tensor(5.3852)\n"
          ]
        }
      ],
      "source": [
        "magY = torch.sqrt(y[0]**2 + y[1]**2 + y[2]**2)\n",
        "print(\"Magnitude of y is: \", magY)"
      ]
    },
    {
      "cell_type": "markdown",
      "id": "d49bd669-91da-4da4-a56d-cf3c66ad0946",
      "metadata": {
        "id": "d49bd669-91da-4da4-a56d-cf3c66ad0946"
      },
      "source": [
        "We can compute the dot product between x and y, which will give us a measure of the geometric similarity between the two vectors:"
      ]
    },
    {
      "cell_type": "code",
      "execution_count": null,
      "id": "44819b4d-ba67-4e39-a4b8-29c92a704b8d",
      "metadata": {
        "id": "44819b4d-ba67-4e39-a4b8-29c92a704b8d",
        "colab": {
          "base_uri": "https://localhost:8080/"
        },
        "outputId": "7db97f80-c2e8-4a40-8056-0d96d14182b2"
      },
      "outputs": [
        {
          "output_type": "execute_result",
          "data": {
            "text/plain": [
              "tensor(17)"
            ]
          },
          "metadata": {},
          "execution_count": 30
        }
      ],
      "source": [
        "torch.dot(x, y)"
      ]
    },
    {
      "cell_type": "markdown",
      "id": "b03eb890-f7cb-473e-ae31-f1afd85f478a",
      "metadata": {
        "id": "b03eb890-f7cb-473e-ae31-f1afd85f478a"
      },
      "source": [
        "Using the magnitudes and the dot product, we can actually compute the angle between the two vectors, also defined as the cosine similarity, which measure how closely oriented are two vectors in Euclidean space:"
      ]
    },
    {
      "cell_type": "code",
      "execution_count": null,
      "id": "f69cd852-acc0-4e95-8127-71850af5ba67",
      "metadata": {
        "id": "f69cd852-acc0-4e95-8127-71850af5ba67",
        "colab": {
          "base_uri": "https://localhost:8080/"
        },
        "outputId": "7f0f1b0c-6292-4fc7-f24f-315ea59662a3"
      },
      "outputs": [
        {
          "output_type": "execute_result",
          "data": {
            "text/plain": [
              "tensor(32.4675)"
            ]
          },
          "metadata": {},
          "execution_count": 31
        }
      ],
      "source": [
        "torch.rad2deg(torch.arccos(torch.dot(x, y) / (magX*magY)))"
      ]
    },
    {
      "cell_type": "markdown",
      "id": "3394efaf-d601-47b2-97f6-398f4e95fa9e",
      "metadata": {
        "id": "3394efaf-d601-47b2-97f6-398f4e95fa9e"
      },
      "source": [
        "We find that there is a relationship between the directions of x and y in the vector space because the angle between them is nonzero. In case the two vectors are orthogonal, or the angle is zero, this would imply the two vectors are linearly independent."
      ]
    },
    {
      "cell_type": "markdown",
      "id": "e24ba2ea-603b-465f-a071-dd660e08e2c6",
      "metadata": {
        "id": "e24ba2ea-603b-465f-a071-dd660e08e2c6"
      },
      "source": [
        "For matrices and multi-dimensional tensors, PyTorch also has the functionality of computing eigenvalues and eigenvectors to provide additional study of fundamental properties of variables in vector space.\n",
        "\n",
        "The eigenvalue decomposition of a square matrix (if exists) is defined as:\n",
        "\n",
        "$$\n",
        "  A = V diag(\\lambda) V^{-1}\n",
        "$$\n",
        "\n",
        "where $$ V \\in C^{nxn}$$ are the eigenvectors and $$ \\lambda \\in C^n$$ are the eigenvalues."
      ]
    },
    {
      "cell_type": "code",
      "execution_count": null,
      "id": "fcebafa4-c2b7-40c1-b030-03e669f04f23",
      "metadata": {
        "id": "fcebafa4-c2b7-40c1-b030-03e669f04f23",
        "colab": {
          "base_uri": "https://localhost:8080/"
        },
        "outputId": "0135dc06-5865-4fd3-bf57-74b04ebf42e3"
      },
      "outputs": [
        {
          "output_type": "stream",
          "name": "stdout",
          "text": [
            "The eigenvectors are:  tensor([[ 0.1993-0.j,  0.9298+0.j,  0.6133+0.j],\n",
            "        [ 0.4913-0.j, -0.3670+0.j,  0.5704-0.j],\n",
            "        [ 0.8479+0.j, -0.0273+0.j, -0.5464+0.j]], dtype=torch.complex128)\n",
            "The eigenvalues are:  tensor([14.7611+0.j,  1.9121+0.j, -0.6732+0.j], dtype=torch.complex128)\n"
          ]
        }
      ],
      "source": [
        "x = torch.tensor([[2, 0, 3], [1, 4, 6], [3, 7, 10]], dtype=torch.complex128)\n",
        "L, V = torch.linalg.eig(x)\n",
        "print(\"The eigenvectors are: \", V)\n",
        "print(\"The eigenvalues are: \", L)"
      ]
    },
    {
      "cell_type": "markdown",
      "source": [
        "## Linear equations in PyTorch\n",
        "\n",
        "PyTorch contains many useful linear algebra functions for solving systems of equations, computing inverses, etc.  Below is an example where we use it to solve a system of linear equations $Ax = b$ for the vector $x$.\n",
        "\n",
        "$$\n",
        "\\begin{bmatrix}1 & 2 & 4 \\\\ -2 & 3 & 1 \\\\ -4 & 1 & 2\\end{bmatrix}\\begin{bmatrix}x_1 \\\\x_2 \\\\x_3 \\end{bmatrix} = \\begin{bmatrix}18 \\\\ 5 \\\\ 0\\end{bmatrix}\n",
        "$$\n"
      ],
      "metadata": {
        "id": "30baN-FkTWc6"
      },
      "id": "30baN-FkTWc6"
    },
    {
      "cell_type": "code",
      "source": [
        "# Set up the equations.\n",
        "import torch\n",
        "\n",
        "A = torch.FloatTensor([[1, 2, 4], [-2, 3, 1], [-4, 1, 2]])\n",
        "b = torch.FloatTensor([18, 5, 0])\n",
        "\n",
        "# Solve the system.\n",
        "x = torch.linalg.solve(A, b)\n",
        "print('x = ', x)\n",
        "\n",
        "# Verify the solution by checking the residual is 0.\n",
        "r = A @ x - b\n",
        "print('r = ', r)"
      ],
      "metadata": {
        "id": "wgyT7607VbKZ",
        "colab": {
          "base_uri": "https://localhost:8080/"
        },
        "outputId": "d8a75d7d-a20f-4888-e66a-ced513f55cb6"
      },
      "id": "wgyT7607VbKZ",
      "execution_count": null,
      "outputs": [
        {
          "output_type": "stream",
          "name": "stdout",
          "text": [
            "x =  tensor([2., 2., 3.])\n",
            "r =  tensor([0., 0., 0.])\n"
          ]
        }
      ]
    },
    {
      "cell_type": "markdown",
      "source": [
        "We can also invert the matrix $A$ and then multiply. Depending on the size of A this could be not the most computationally efficient solution.\n"
      ],
      "metadata": {
        "id": "qw6kDa3aVydf"
      },
      "id": "qw6kDa3aVydf"
    },
    {
      "cell_type": "code",
      "source": [
        "A_inv = torch.linalg.inv(A)\n",
        "\n",
        "x = A_inv @ b\n",
        "print('x = ', x)\n",
        "\n",
        "# Compute the Euclidean norm of the residual.  It should be 0.\n",
        "norm_r = torch.linalg.norm(A @ x - b)\n",
        "print('norm_r = ', norm_r)"
      ],
      "metadata": {
        "id": "G_vZwd3TVzUK",
        "colab": {
          "base_uri": "https://localhost:8080/"
        },
        "outputId": "b819805f-8e54-4faa-96e3-264200e7b4f2"
      },
      "id": "G_vZwd3TVzUK",
      "execution_count": null,
      "outputs": [
        {
          "output_type": "stream",
          "name": "stdout",
          "text": [
            "x =  tensor([2., 2., 3.])\n",
            "norm_r =  tensor(0.)\n"
          ]
        }
      ]
    },
    {
      "cell_type": "markdown",
      "id": "88b97384",
      "metadata": {
        "id": "88b97384"
      },
      "source": [
        "## Using Matplotlib with PyTorch\n",
        "\n",
        "In machine learning programs typically there are many variables and information that can be difficult to track by relying on simple logging or printing. We also introduce Matplotlib, the plotting library of Python to aid visualize information related to our machine learning systems in the future."
      ]
    },
    {
      "cell_type": "markdown",
      "id": "4995b423",
      "metadata": {
        "id": "4995b423"
      },
      "source": [
        "In Python, we import the following functionalities to set-up any plotting function:"
      ]
    },
    {
      "cell_type": "code",
      "execution_count": null,
      "id": "9b71ad02",
      "metadata": {
        "id": "9b71ad02"
      },
      "outputs": [],
      "source": [
        "import matplotlib\n",
        "import matplotlib.pyplot as plt\n",
        "from matplotlib import cm\n",
        "from mpl_toolkits.mplot3d import Axes3D\n",
        "\n",
        "%matplotlib inline\n",
        "# Sets the matplotlib backend for ipython notebooks"
      ]
    },
    {
      "cell_type": "markdown",
      "id": "82153c4b",
      "metadata": {
        "id": "82153c4b"
      },
      "source": [
        "Let's use matplotlib with torch tensors to plot non-linear functions."
      ]
    },
    {
      "cell_type": "code",
      "execution_count": null,
      "id": "83cec901",
      "metadata": {
        "id": "83cec901",
        "colab": {
          "base_uri": "https://localhost:8080/",
          "height": 493
        },
        "outputId": "84262c07-ac51-4f7b-b2e2-8c8559d35c67"
      },
      "outputs": [
        {
          "output_type": "display_data",
          "data": {
            "text/plain": [
              "<Figure size 640x480 with 1 Axes>"
            ],
            "image/png": "[encoded data removed]"
          },
          "metadata": {}
        }
      ],
      "source": [
        "f = lambda x: torch.sin(x)\n",
        "x = torch.arange(0,10,0.1)\n",
        "\n",
        "# Now plot the results.\n",
        "plt.figure(1)\n",
        "plt.plot(x, f(x), 'b-', label = r'sine')\n",
        "plt.xlabel(r'$x$')\n",
        "plt.ylabel(r'$\\sin(x)$')\n",
        "plt.title(r'The sine function')\n",
        "plt.legend();"
      ]
    },
    {
      "cell_type": "markdown",
      "id": "25b85201",
      "metadata": {
        "id": "25b85201"
      },
      "source": [
        "We can also plot surfaces representing multi-dimensional information."
      ]
    },
    {
      "cell_type": "code",
      "execution_count": null,
      "id": "00b1c4cc",
      "metadata": {
        "id": "00b1c4cc",
        "colab": {
          "base_uri": "https://localhost:8080/",
          "height": 734
        },
        "outputId": "1d6abec5-dd3a-4a9c-a782-fcc985ee639f"
      },
      "outputs": [
        {
          "output_type": "stream",
          "name": "stderr",
          "text": [
            "/usr/local/lib/python3.10/dist-packages/torch/functional.py:504: UserWarning: torch.meshgrid: in an upcoming release, it will be required to pass the indexing argument. (Triggered internally at ../aten/src/ATen/native/TensorShape.cpp:3526.)\n",
            "  return _VF.meshgrid(tensors, **kwargs)  # type: ignore[attr-defined]\n"
          ]
        },
        {
          "output_type": "display_data",
          "data": {
            "text/plain": [
              "<Figure size 800x800 with 1 Axes>"
            ],
            "image/png": "[encoded data removed]"
          },
          "metadata": {}
        }
      ],
      "source": [
        "x, y = torch.meshgrid(torch.arange(-7, 7, 0.5), torch.arange(-7, 7, 0.5))\n",
        "z = torch.pow(x, 2) + torch.pow(y, 2)\n",
        "\n",
        "fig, ax = plt.subplots(subplot_kw={\"projection\": \"3d\"}, figsize=(8,8))\n",
        "surf = ax.plot_surface(x, y, z, cmap = cm.coolwarm)\n",
        "ax.set_xlabel('x')\n",
        "ax.set_ylabel('y')\n",
        "ax.set_zlabel('z')\n",
        "plt.title(r'Sphere Function: $z = x^2 + y^2$');"
      ]
    },
    {
      "cell_type": "markdown",
      "id": "19cac371-225e-49e6-bc39-f48f068d3e55",
      "metadata": {
        "id": "19cac371-225e-49e6-bc39-f48f068d3e55"
      },
      "source": [
        "## Exercise 1"
      ]
    },
    {
      "cell_type": "markdown",
      "id": "a8dc82dc-4008-4e09-9b20-d17875ebcdb2",
      "metadata": {
        "id": "a8dc82dc-4008-4e09-9b20-d17875ebcdb2"
      },
      "source": [
        "Imagine two vectors a and b of shape 3x1 initialized randomly. Using the PyTorch functionalities, determine the magnitude of each vector, the cosine distance and the angle between them and their sum. Using Matplotlib, plot a 3D figure showing the two vectors and their addition vector together in vector space. Comment on the relationship and dependence property between the two vectors."
      ]
    },
    {
      "cell_type": "code",
      "execution_count": null,
      "id": "46e9e656-dc9d-4de7-96e8-09dffc263e8e",
      "metadata": {
        "id": "46e9e656-dc9d-4de7-96e8-09dffc263e8e"
      },
      "outputs": [],
      "source": [
        "# ** Your answer** #\n",
        "import torch\n",
        "\n",
        "## To-do: initialize a & b\n",
        "\n",
        "## To-do: compute magnitude\n",
        "\n",
        "print(\"Length of vector A is: \", magA)\n",
        "print(\"Length of vector B is: \", magB)\n",
        "\n",
        "## To-do: compute cosine distance and find angle\n",
        "\n",
        "print(\"Cosine distance between A and B is: \", cosAB)\n",
        "print(\"Angle between A and B is: \", angleAB)\n",
        "\n",
        "## To-do: compute vector addition\n",
        "print(\"Adding A to B results in: \", c)\n",
        "\n",
        "\n",
        "# Program to plot a vector in 3-d vector space:\n",
        "import matplotlib\n",
        "import matplotlib.pyplot as plt\n",
        "fig = plt.figure() # init figure\n",
        "ax = fig.add_subplot(projection='3d') # project into 3d space\n",
        "\n",
        "ax.plot([0,a[0]],[0,a[1]],[0,a[2]],color='blue',linewidth=2)\n",
        "ax.plot([0,b[0]],[0,b[1]],[0,b[2]],color='green',linewidth=2)\n",
        "ax.plot([0,c[0]],[0,c[1]],[0,c[2]],color='red',linewidth=2)\n",
        "plt.legend(['a', 'b', 'c'])\n",
        "ax.set_xlabel('x')\n",
        "ax.set_ylabel('y')\n",
        "ax.set_zlabel('z')\n",
        "\n"
      ]
    },
    {
      "cell_type": "markdown",
      "id": "9cef0667-b743-45c5-b790-c743995f28b9",
      "metadata": {
        "id": "9cef0667-b743-45c5-b790-c743995f28b9"
      },
      "source": [
        "## Exercise 2"
      ]
    },
    {
      "cell_type": "markdown",
      "id": "8bc360a1-e63c-489d-a5a6-3e7dd0773d8a",
      "metadata": {
        "id": "8bc360a1-e63c-489d-a5a6-3e7dd0773d8a"
      },
      "source": [
        "Imagine a matrix of size 3x3 initialized randomly. Compute the eigenvectors of the matrix and plot in 3-d vector space using Matplotlib."
      ]
    },
    {
      "cell_type": "code",
      "execution_count": null,
      "id": "3a359092-572b-4116-80b0-2dcccab10926",
      "metadata": {
        "id": "3a359092-572b-4116-80b0-2dcccab10926"
      },
      "outputs": [],
      "source": [
        "# ** Your answer** #\n",
        "\n",
        "## To-do: initialize x\n",
        "\n",
        "## To-do: run eigenvalue decomposition\n",
        "print(\"Eigenvalues of x are: \", L)\n",
        "print(\"Eigenvectors of x are: \", V)\n",
        "\n",
        "\n",
        "# Program to plot a vector in 3-d vector space:\n",
        "import matplotlib\n",
        "import matplotlib.pyplot as plt\n",
        "\n",
        "fig = plt.figure() # init figure\n",
        "ax = fig.add_subplot(projection='3d') # project into 3d space\n",
        "\n",
        "ax.plot([0,V[0][0]],[0,V[0][1]],[0,V[0][1]],color='blue',linewidth=2)\n",
        "ax.plot([0,V[1][0]],[0,V[1][1]],[0,V[1][1]],color='blue',linewidth=2)\n",
        "ax.plot([0,V[2][0]],[0,V[2][1]],[0,V[2][1]],color='blue',linewidth=2)\n",
        "plt.legend(['v1', 'v2', 'v3'])\n",
        "ax.set_xlabel('x')\n",
        "ax.set_ylabel('y')\n",
        "ax.set_zlabel('z')"
      ]
    },
    {
      "cell_type": "markdown",
      "source": [
        "## Exercise 3\n",
        "\n",
        "Projection of a point b onto a line a can be computed using the following formula:\n",
        "\n",
        "$$\n",
        "  proj_a(b) = \\frac{a^Tb}{a^Ta}a\n",
        "$$\n",
        "\n",
        "Using PyTorch, initialize a random 3-D line from the origin to a vector a and a point b and compute the projection of b onto line a. Plot line a and the projection using matplotlib.\n",
        "\n",
        "**Explanation on the projection formula:**\n",
        "\n",
        "Assume that vector b could be represented using two principal axes: $p$ and $d$ which are orthogonal to each other.\n",
        "\n",
        "The projection of b on the line a could be represented as a scaling operation by a scalar $β$ where p will still be in the same direction with line a, such that $ p = \\beta a $.\n",
        "\n",
        "In order to find $ \\beta $, we can make use of the orthogonality property of $p$ and $d$. Note that the dot product of two orthogonal vectors should be 0:\n",
        "\n",
        "$$\n",
        "  (b - \\beta a) a = 0\n",
        "$$\n",
        "$$\n",
        "  a^T(b - \\beta a) = 0\n",
        "$$\n",
        "$$\n",
        "  a^Tb - \\beta a^Ta = 0\n",
        "$$\n",
        "$$\n",
        "  \\beta = \\frac{a^Tb}{a^Ta}\n",
        "$$\n",
        "\n",
        "Projection of a point b onto line a is then:\n",
        "\n",
        "$$\n",
        "  proj_a(b) = \\frac{a^Tb}{a^Ta}a\n",
        "$$\n"
      ],
      "metadata": {
        "id": "rDlT1-sGV6Fx"
      },
      "id": "rDlT1-sGV6Fx"
    },
    {
      "cell_type": "markdown",
      "source": [
        "![Screenshot 2023-09-08 at 3.34.41 PM.png](data:image/png;base64,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)"
      ],
      "metadata": {
        "id": "CYs-EKlIh1Kg"
      },
      "id": "CYs-EKlIh1Kg"
    },
    {
      "cell_type": "code",
      "source": [
        "# ** Your answer** #\n",
        "\n",
        "## To-do: initialize a & b\n",
        "## Hint: it might be better to create matrices of size (3, 1) to ease multiplication and transpose operations\n",
        "\n",
        "## To-do: compute projection\n",
        "print(\"The new line is: \", projab)\n",
        "\n",
        "# Program to plot a vector in 3-d vector space:\n",
        "import matplotlib\n",
        "import matplotlib.pyplot as plt\n",
        "\n",
        "fig = plt.figure() # init figure\n",
        "ax = fig.add_subplot(projection='3d') # project into 3d space\n",
        "\n",
        "ax.plot([0,a[0][0]],[0,a[1][0]],[0,a[2][0]],color='blue',linewidth=2)\n",
        "ax.plot([0,b[0][0]],[0,b[1][0]],[0,b[2][0]],color='green',linewidth=2)\n",
        "ax.plot([0,projab[0][0]],[0,projab[1][0]],[0,projab[2][0]],color='red',linewidth=2)\n",
        "\n",
        "plt.legend(['a', 'projab', 'b'])\n",
        "ax.set_xlabel('x')\n",
        "ax.set_ylabel('y')\n",
        "ax.set_zlabel('z')"
      ],
      "metadata": {
        "id": "oHKgLgElV6fQ"
      },
      "id": "oHKgLgElV6fQ",
      "execution_count": null,
      "outputs": []
    }
  ],
  "metadata": {
    "kernelspec": {
      "display_name": "Python 3 (ipykernel)",
      "language": "python",
      "name": "python3"
    },
    "language_info": {
      "codemirror_mode": {
        "name": "ipython",
        "version": 3
      },
      "file_extension": ".py",
      "mimetype": "text/x-python",
      "name": "python",
      "nbconvert_exporter": "python",
      "pygments_lexer": "ipython3",
      "version": "3.11.4"
    },
    "colab": {
      "provenance": []
    }
  },
  "nbformat": 4,
  "nbformat_minor": 5
}